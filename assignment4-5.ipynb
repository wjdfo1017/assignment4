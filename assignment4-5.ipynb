{
 "cells": [
  {
   "cell_type": "code",
   "execution_count": 11,
   "metadata": {
    "scrolled": false
   },
   "outputs": [
    {
     "name": "stdout",
     "output_type": "stream",
     "text": [
      "       mag                                city\n",
      "12329  4.0             Arawa, Papua New Guinea\n",
      "13041  4.0   Agrihan, Northern Mariana Islands\n",
      "14161  4.0                  Port-Vila, Vanuatu\n",
      "14160  4.0                 Al Hoceima, Morocco\n",
      "1129   4.0                                 NaN\n",
      "13891  4.0                    Camargo, Bolivia\n",
      "9109   4.0         Nueva Concepcion, Guatemala\n",
      "7238   4.0                   Bitung, Indonesia\n",
      "7222   4.0                  False Pass, Alaska\n",
      "10732  4.0                    Petatlan, Mexico\n"
     ]
    }
   ],
   "source": [
    "import numpy as np\n",
    "import scipy as sp\n",
    "import pandas as pd\n",
    "import matplotlib.pyplot as plt\n",
    "import io\n",
    "import urllib\n",
    "\n",
    "url=\"https://earthquake.usgs.gov/fdsnws/event/1/query?format=csv&starttime=2016-01-01&endtime=2017-01-02&minmagnitude=4\"\n",
    "url_open = urllib.request.urlopen(url)\n",
    "df=pd.read_csv(io.StringIO(url_open.read().decode('utf-8')), delimiter=',')\n",
    "\n",
    "url2=\"https://earthquake.usgs.gov/fdsnws/event/1/query?format=csv&starttime=2017-01-02&endtime=2018-01-02&minmagnitude=4\"\n",
    "url_open2 = urllib.request.urlopen(url2)\n",
    "df2=pd.read_csv(io.StringIO(url_open2.read().decode('utf-8')), delimiter=',')\n",
    "\n",
    "url3=\"https://earthquake.usgs.gov/fdsnws/event/1/query?format=csv&starttime=2018-01-02&endtime=2019-01-02&minmagnitude=4\"\n",
    "url_open3 = urllib.request.urlopen(url3)\n",
    "df3=pd.read_csv(io.StringIO(url_open3.read().decode('utf-8')), delimiter=',')\n",
    "new_csv=pd.concat([df, df2,df3])\n",
    "\n",
    "url4=\"https://earthquake.usgs.gov/fdsnws/event/1/query?format=csv&starttime=2019-01-02&endtime=2019-10-02&minmagnitude=4\"\n",
    "url_open4 = urllib.request.urlopen(url4)\n",
    "df4=pd.read_csv(io.StringIO(url_open4.read().decode('utf-8')), delimiter=',')\n",
    "new_csv=pd.concat([df, df2,df3,df4])\n",
    "\n",
    "new_csv['city']= new_csv['place'].str.split('of').str[1]\n",
    "new_csv.drop(columns =['place'], inplace = True)\n",
    "df_sortbybagnitude=new_csv.sort_values(by = 'mag', ascending = True)\n",
    "print(df_sortbybagnitude[['mag','city']].head(10))"
   ]
  },
  {
   "cell_type": "code",
   "execution_count": null,
   "metadata": {},
   "outputs": [],
   "source": []
  }
 ],
 "metadata": {
  "kernelspec": {
   "display_name": "Python 3",
   "language": "python",
   "name": "python3"
  },
  "language_info": {
   "codemirror_mode": {
    "name": "ipython",
    "version": 3
   },
   "file_extension": ".py",
   "mimetype": "text/x-python",
   "name": "python",
   "nbconvert_exporter": "python",
   "pygments_lexer": "ipython3",
   "version": "3.6.3"
  }
 },
 "nbformat": 4,
 "nbformat_minor": 2
}
