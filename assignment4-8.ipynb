{
 "cells": [
  {
   "cell_type": "code",
   "execution_count": 4,
   "metadata": {
    "scrolled": false
   },
   "outputs": [
    {
     "data": {
      "text/plain": [
       "(array([2.6285e+04, 1.8015e+04, 5.9740e+03, 1.6920e+03, 6.5500e+02,\n",
       "        2.6400e+02, 7.8000e+01, 2.8000e+01, 1.0000e+01, 1.1000e+01]),\n",
       " array([4.  , 4.42, 4.84, 5.26, 5.68, 6.1 , 6.52, 6.94, 7.36, 7.78, 8.2 ]),\n",
       " <a list of 10 Patch objects>)"
      ]
     },
     "execution_count": 4,
     "metadata": {},
     "output_type": "execute_result"
    },
    {
     "data": {
      "image/png": "[encoded data removed]",
      "text/plain": [
       "<Figure size 432x288 with 1 Axes>"
      ]
     },
     "metadata": {
      "needs_background": "light"
     },
     "output_type": "display_data"
    }
   ],
   "source": [
    "import numpy as np\n",
    "import scipy as sp\n",
    "import pandas as pd\n",
    "import matplotlib.pyplot as plt\n",
    "import io\n",
    "import urllib\n",
    "\n",
    "url=\"https://earthquake.usgs.gov/fdsnws/event/1/query?format=csv&starttime=2016-01-01&endtime=2017-01-02&minmagnitude=4\"\n",
    "url_open = urllib.request.urlopen(url)\n",
    "df=pd.read_csv(io.StringIO(url_open.read().decode('utf-8')), delimiter=',')\n",
    "\n",
    "url2=\"https://earthquake.usgs.gov/fdsnws/event/1/query?format=csv&starttime=2017-01-02&endtime=2018-01-02&minmagnitude=4\"\n",
    "url_open2 = urllib.request.urlopen(url2)\n",
    "df2=pd.read_csv(io.StringIO(url_open2.read().decode('utf-8')), delimiter=',')\n",
    "\n",
    "url3=\"https://earthquake.usgs.gov/fdsnws/event/1/query?format=csv&starttime=2018-01-02&endtime=2019-01-02&minmagnitude=4\"\n",
    "url_open3 = urllib.request.urlopen(url3)\n",
    "df3=pd.read_csv(io.StringIO(url_open3.read().decode('utf-8')), delimiter=',')\n",
    "new_csv=pd.concat([df, df2,df3])\n",
    "\n",
    "url4=\"https://earthquake.usgs.gov/fdsnws/event/1/query?format=csv&starttime=2019-01-02&endtime=2019-10-02&minmagnitude=4\"\n",
    "url_open4 = urllib.request.urlopen(url4)\n",
    "df4=pd.read_csv(io.StringIO(url_open4.read().decode('utf-8')), delimiter=',')\n",
    "new_csv=pd.concat([df, df2,df3,df4])\n",
    "\n",
    "x_mag=new_csv['mag']\n",
    "y_count_earthqu=new_csv['mag'].count()\n",
    "plt.yscale('log', nonposy='clip')\n",
    "plt.xscale('log')\n",
    "plt.hist(x_mag)"
   ]
  },
  {
   "cell_type": "code",
   "execution_count": null,
   "metadata": {},
   "outputs": [],
   "source": [
    "Histogram's purpose is to show distribution of date.\n",
    "this histogram is earthquake of count versus magnitude.\n",
    "x-axis is magnitude and y-axis is earthquake of count.\n",
    "the relationship is inverse proportion\n",
    "weakest magnitude occurs in most which means that highest count.\n",
    "whenever magnitude is getting strong, earthquake of count is getting less."
   ]
  }
 ],
 "metadata": {
  "kernelspec": {
   "display_name": "Python 3",
   "language": "python",
   "name": "python3"
  },
  "language_info": {
   "codemirror_mode": {
    "name": "ipython",
    "version": 3
   },
   "file_extension": ".py",
   "mimetype": "text/x-python",
   "name": "python",
   "nbconvert_exporter": "python",
   "pygments_lexer": "ipython3",
   "version": "3.6.3"
  }
 },
 "nbformat": 4,
 "nbformat_minor": 2
}
